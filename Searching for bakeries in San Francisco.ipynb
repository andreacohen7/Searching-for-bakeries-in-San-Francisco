{
 "cells": [
  {
   "cell_type": "markdown",
   "id": "40855224",
   "metadata": {},
   "source": [
    "# Searching for Bakeries in San Francisco\n",
    "- Andrea Cohen\n",
    "- 03.01.23"
   ]
  },
  {
   "cell_type": "markdown",
   "id": "5417b054",
   "metadata": {},
   "source": [
    "## Imports"
   ]
  },
  {
   "cell_type": "code",
   "execution_count": 1,
   "id": "33263a10",
   "metadata": {},
   "outputs": [],
   "source": [
    "import pandas as pd\n",
    "import os, json, math, time\n",
    "from yelpapi import YelpAPI\n",
    "from tqdm.notebook import tqdm_notebook"
   ]
  },
  {
   "cell_type": "markdown",
   "id": "d535b377",
   "metadata": {},
   "source": [
    "## Credentials and Accessing the API"
   ]
  },
  {
   "cell_type": "code",
   "execution_count": 2,
   "id": "a75a8334",
   "metadata": {},
   "outputs": [],
   "source": [
    "# Load API Credentials\n",
    "with open('/Users/andreacohen/.secret/yelp_api.json') as f:\n",
    "    login = json.load(f)\n",
    "# Instantiate YelpAPI Variable\n",
    "yelp_api = YelpAPI(login['api-key'], timeout_s=5.0)"
   ]
  },
  {
   "cell_type": "markdown",
   "id": "0d13ce5a",
   "metadata": {},
   "source": [
    "## Define the Search"
   ]
  },
  {
   "cell_type": "code",
   "execution_count": 3,
   "id": "c56ad465",
   "metadata": {},
   "outputs": [],
   "source": [
    "# set API call parameters \n",
    "LOCATION = 'San Francisco, CA'\n",
    "TERM = 'Bakery'"
   ]
  },
  {
   "cell_type": "markdown",
   "id": "97eedeab",
   "metadata": {},
   "source": [
    "## Create a results-in-progress JSON file, but only if it doesn't exist"
   ]
  },
  {
   "cell_type": "code",
   "execution_count": 4,
   "id": "c837b2fb",
   "metadata": {},
   "outputs": [
    {
     "data": {
      "text/plain": [
       "'Data/results_in_progress_SanFrancisco_bakery.json'"
      ]
     },
     "execution_count": 4,
     "metadata": {},
     "output_type": "execute_result"
    }
   ],
   "source": [
    "# Specifying JSON_FILE filename (can include a folder)\n",
    "# include the search terms in the filename\n",
    "JSON_FILE = \"Data/results_in_progress_SanFrancisco_bakery.json\"\n",
    "JSON_FILE"
   ]
  },
  {
   "cell_type": "markdown",
   "id": "8e6b1451",
   "metadata": {},
   "source": [
    "## Define a function to create a previous results file (and delete an existing previous results file)"
   ]
  },
  {
   "cell_type": "code",
   "execution_count": 5,
   "id": "168b35b8",
   "metadata": {},
   "outputs": [],
   "source": [
    "def create_json_file(JSON_FILE, delete_if_exists=False):\n",
    "    ## Check if JSON_FILE exists\n",
    "    file_exists = os.path.isfile(JSON_FILE)\n",
    "    ## If it DOES exist:\n",
    "    if file_exists == True:\n",
    "        ## Check if user wants to delete if exists\n",
    "        if delete_if_exists==True:\n",
    "            print(f\"[!] {JSON_FILE} already exists. Deleting previous file...\")\n",
    "            ## delete file and confirm it no longer exists\n",
    "            os.remove(JSON_FILE)\n",
    "            ## recursive call to function after old file deleted\n",
    "            create_json_file(JSON_FILE, delete_if_exists=False)\n",
    "        else:\n",
    "            print(f\"[i] {JSON_FILE} already exists.\")\n",
    "    ## If it does NOT exist:\n",
    "    else:\n",
    "        ## INFORM USER AND SAVE EMPTY LIST\n",
    "        print(f\"[i] {JSON_FILE} not found. Saving empty list to new file.\")\n",
    "        ## CREATE ANY NEEDED FOLDERS\n",
    "        # Get the folder name only\n",
    "        folder = os.path.dirname(JSON_FILE)\n",
    "        ## If JSON_FILE included a folder:\n",
    "        if len(folder)>0:\n",
    "            # create the folder\n",
    "            os.makedirs(folder,exist_ok=True)\n",
    "        ## save empty list to start the json file\n",
    "        with open(JSON_FILE,'w') as f:\n",
    "            json.dump([],f)"
   ]
  },
  {
   "cell_type": "markdown",
   "id": "04f3802f",
   "metadata": {},
   "source": [
    "## Create a results-in-progress JSON file, determine how many results are already in the file, and figure out how many pages of results we will need"
   ]
  },
  {
   "cell_type": "code",
   "execution_count": 6,
   "id": "320171ff",
   "metadata": {},
   "outputs": [
    {
     "name": "stdout",
     "output_type": "stream",
     "text": [
      "[i] Data/results_in_progress_SanFrancisco_bakery.json not found. Saving empty list to new file.\n",
      "- 0 previous results found.\n"
     ]
    },
    {
     "data": {
      "text/plain": [
       "85"
      ]
     },
     "execution_count": 6,
     "metadata": {},
     "output_type": "execute_result"
    }
   ],
   "source": [
    "## Create a new empty json file (exist the previous if it exists)\n",
    "create_json_file(JSON_FILE, delete_if_exists=True)\n",
    "## Load previous results and use len of results for offset\n",
    "with open(JSON_FILE,'r') as f:\n",
    "    previous_results = json.load(f)\n",
    "## set offset based on previous results\n",
    "n_results = len(previous_results)\n",
    "print(f'- {n_results} previous results found.')\n",
    "# use yelp_api variable's search_query method to perform API call\n",
    "results = yelp_api.search_query(location=LOCATION,\n",
    "                               term=TERM,\n",
    "                               offset=n_results)\n",
    "## How many results total?\n",
    "total_results = results['total']\n",
    "## How many did we get the details for?\n",
    "results_per_page = len(results['businesses'])\n",
    "# Use math.ceil to round up for the total number of pages of results\n",
    "n_pages = math.ceil((results['total']-n_results)/results_per_page)\n",
    "n_pages"
   ]
  },
  {
   "cell_type": "markdown",
   "id": "f2b2cb48",
   "metadata": {},
   "source": [
    "## For Loop to call each page, including a progress bar and a break if too many results are requested"
   ]
  },
  {
   "cell_type": "code",
   "execution_count": 7,
   "id": "d72af130",
   "metadata": {},
   "outputs": [
    {
     "data": {
      "application/vnd.jupyter.widget-view+json": {
       "model_id": "b6616c34d61f4c4083e65d4c0007ae70",
       "version_major": 2,
       "version_minor": 0
      },
      "text/plain": [
       "  0%|          | 0/85 [00:00<?, ?it/s]"
      ]
     },
     "metadata": {},
     "output_type": "display_data"
    },
    {
     "name": "stdout",
     "output_type": "stream",
     "text": [
      "Exceeded 1000 api calls. Stopping loop.\n"
     ]
    }
   ],
   "source": [
    "for i in tqdm_notebook(range(1,n_pages+1)):\n",
    "    ## read in results in progress file and check the length\n",
    "    with open(JSON_FILE, 'r') as f:\n",
    "        previous_results = json.load(f)\n",
    "    ## save number of results to use as offset\n",
    "    n_results = len(previous_results)\n",
    "    if (n_results + results_per_page) >1000:\n",
    "        print('Exceeded 1000 api calls. Stopping loop.')\n",
    "        break\n",
    "    ## use n_results as the OFFSET\n",
    "    results = yelp_api.search_query(location=LOCATION,\n",
    "                                   term=TERM,\n",
    "                                   offset=n_results)\n",
    "    ## append new results and save to file\n",
    "    previous_results.extend(results['businesses'])\n",
    "    # display(previous_results)\n",
    "    with open(JSON_FILE,'w') as f:\n",
    "        json.dump(previous_results,f)\n",
    "    time.sleep(.2)"
   ]
  },
  {
   "cell_type": "markdown",
   "id": "6630b4c0",
   "metadata": {},
   "source": [
    "## After the loop has finished, convert .json to dataframe"
   ]
  },
  {
   "cell_type": "code",
   "execution_count": 8,
   "id": "384165fe",
   "metadata": {},
   "outputs": [
    {
     "data": {
      "text/html": [
       "<div>\n",
       "<style scoped>\n",
       "    .dataframe tbody tr th:only-of-type {\n",
       "        vertical-align: middle;\n",
       "    }\n",
       "\n",
       "    .dataframe tbody tr th {\n",
       "        vertical-align: top;\n",
       "    }\n",
       "\n",
       "    .dataframe thead th {\n",
       "        text-align: right;\n",
       "    }\n",
       "</style>\n",
       "<table border=\"1\" class=\"dataframe\">\n",
       "  <thead>\n",
       "    <tr style=\"text-align: right;\">\n",
       "      <th></th>\n",
       "      <th>id</th>\n",
       "      <th>alias</th>\n",
       "      <th>name</th>\n",
       "      <th>image_url</th>\n",
       "      <th>is_closed</th>\n",
       "      <th>url</th>\n",
       "      <th>review_count</th>\n",
       "      <th>categories</th>\n",
       "      <th>rating</th>\n",
       "      <th>coordinates</th>\n",
       "      <th>transactions</th>\n",
       "      <th>price</th>\n",
       "      <th>location</th>\n",
       "      <th>phone</th>\n",
       "      <th>display_phone</th>\n",
       "      <th>distance</th>\n",
       "    </tr>\n",
       "  </thead>\n",
       "  <tbody>\n",
       "    <tr>\n",
       "      <th>0</th>\n",
       "      <td>1U9_ZNruMLf4EL0pMoxb_w</td>\n",
       "      <td>arsicault-bakery-san-francisco</td>\n",
       "      <td>Arsicault Bakery</td>\n",
       "      <td>https://s3-media3.fl.yelpcdn.com/bphoto/edKSWJ...</td>\n",
       "      <td>False</td>\n",
       "      <td>https://www.yelp.com/biz/arsicault-bakery-san-...</td>\n",
       "      <td>2050</td>\n",
       "      <td>[{'alias': 'bakeries', 'title': 'Bakeries'}]</td>\n",
       "      <td>4.5</td>\n",
       "      <td>{'latitude': 37.783429, 'longitude': -122.459307}</td>\n",
       "      <td>[delivery]</td>\n",
       "      <td>$$</td>\n",
       "      <td>{'address1': '397 Arguello Blvd', 'address2': ...</td>\n",
       "      <td>+14157509460</td>\n",
       "      <td>(415) 750-9460</td>\n",
       "      <td>3211.384137</td>\n",
       "    </tr>\n",
       "    <tr>\n",
       "      <th>1</th>\n",
       "      <td>2XQm-uFcTS7oc8MFP-8olA</td>\n",
       "      <td>b-patisserie-san-francisco-2</td>\n",
       "      <td>B Patisserie</td>\n",
       "      <td>https://s3-media1.fl.yelpcdn.com/bphoto/c9hNm5...</td>\n",
       "      <td>False</td>\n",
       "      <td>https://www.yelp.com/biz/b-patisserie-san-fran...</td>\n",
       "      <td>3247</td>\n",
       "      <td>[{'alias': 'bakeries', 'title': 'Bakeries'}, {...</td>\n",
       "      <td>4.5</td>\n",
       "      <td>{'latitude': 37.787873, 'longitude': -122.440882}</td>\n",
       "      <td>[delivery]</td>\n",
       "      <td>$$</td>\n",
       "      <td>{'address1': '2821 California St', 'address2':...</td>\n",
       "      <td>+14154401700</td>\n",
       "      <td>(415) 440-1700</td>\n",
       "      <td>3024.692513</td>\n",
       "    </tr>\n",
       "    <tr>\n",
       "      <th>2</th>\n",
       "      <td>Yb7cibCAku1zztMjiGuQHw</td>\n",
       "      <td>jane-the-bakery-san-francisco</td>\n",
       "      <td>Jane The Bakery</td>\n",
       "      <td>https://s3-media3.fl.yelpcdn.com/bphoto/haLvOB...</td>\n",
       "      <td>False</td>\n",
       "      <td>https://www.yelp.com/biz/jane-the-bakery-san-f...</td>\n",
       "      <td>587</td>\n",
       "      <td>[{'alias': 'bakeries', 'title': 'Bakeries'}, {...</td>\n",
       "      <td>4.5</td>\n",
       "      <td>{'latitude': 37.7838, 'longitude': -122.43411}</td>\n",
       "      <td>[pickup, delivery]</td>\n",
       "      <td>$</td>\n",
       "      <td>{'address1': '1881 Geary Blvd', 'address2': ''...</td>\n",
       "      <td>+14156587971</td>\n",
       "      <td>(415) 658-7971</td>\n",
       "      <td>2548.361058</td>\n",
       "    </tr>\n",
       "    <tr>\n",
       "      <th>3</th>\n",
       "      <td>JHDwFuHBw_PsPdZu196q3w</td>\n",
       "      <td>jina-bakes-san-francisco</td>\n",
       "      <td>Jina Bakes</td>\n",
       "      <td>https://s3-media4.fl.yelpcdn.com/bphoto/6FTSET...</td>\n",
       "      <td>False</td>\n",
       "      <td>https://www.yelp.com/biz/jina-bakes-san-franci...</td>\n",
       "      <td>307</td>\n",
       "      <td>[{'alias': 'bakeries', 'title': 'Bakeries'}]</td>\n",
       "      <td>4.5</td>\n",
       "      <td>{'latitude': 37.78522, 'longitude': -122.43157}</td>\n",
       "      <td>[]</td>\n",
       "      <td>NaN</td>\n",
       "      <td>{'address1': '1581 Webster St', 'address2': 'S...</td>\n",
       "      <td></td>\n",
       "      <td></td>\n",
       "      <td>2717.175933</td>\n",
       "    </tr>\n",
       "    <tr>\n",
       "      <th>4</th>\n",
       "      <td>ri7UUYmx21AgSpRsf4-9QA</td>\n",
       "      <td>tartine-bakery-san-francisco-3</td>\n",
       "      <td>Tartine Bakery</td>\n",
       "      <td>https://s3-media4.fl.yelpcdn.com/bphoto/QRbC0T...</td>\n",
       "      <td>False</td>\n",
       "      <td>https://www.yelp.com/biz/tartine-bakery-san-fr...</td>\n",
       "      <td>8700</td>\n",
       "      <td>[{'alias': 'bakeries', 'title': 'Bakeries'}, {...</td>\n",
       "      <td>4.0</td>\n",
       "      <td>{'latitude': 37.76131, 'longitude': -122.42431}</td>\n",
       "      <td>[delivery]</td>\n",
       "      <td>$$</td>\n",
       "      <td>{'address1': '600 Guerrero St', 'address2': ''...</td>\n",
       "      <td>+14154872600</td>\n",
       "      <td>(415) 487-2600</td>\n",
       "      <td>1087.638933</td>\n",
       "    </tr>\n",
       "  </tbody>\n",
       "</table>\n",
       "</div>"
      ],
      "text/plain": [
       "                       id                           alias              name  \\\n",
       "0  1U9_ZNruMLf4EL0pMoxb_w  arsicault-bakery-san-francisco  Arsicault Bakery   \n",
       "1  2XQm-uFcTS7oc8MFP-8olA    b-patisserie-san-francisco-2      B Patisserie   \n",
       "2  Yb7cibCAku1zztMjiGuQHw   jane-the-bakery-san-francisco   Jane The Bakery   \n",
       "3  JHDwFuHBw_PsPdZu196q3w        jina-bakes-san-francisco        Jina Bakes   \n",
       "4  ri7UUYmx21AgSpRsf4-9QA  tartine-bakery-san-francisco-3    Tartine Bakery   \n",
       "\n",
       "                                           image_url  is_closed  \\\n",
       "0  https://s3-media3.fl.yelpcdn.com/bphoto/edKSWJ...      False   \n",
       "1  https://s3-media1.fl.yelpcdn.com/bphoto/c9hNm5...      False   \n",
       "2  https://s3-media3.fl.yelpcdn.com/bphoto/haLvOB...      False   \n",
       "3  https://s3-media4.fl.yelpcdn.com/bphoto/6FTSET...      False   \n",
       "4  https://s3-media4.fl.yelpcdn.com/bphoto/QRbC0T...      False   \n",
       "\n",
       "                                                 url  review_count  \\\n",
       "0  https://www.yelp.com/biz/arsicault-bakery-san-...          2050   \n",
       "1  https://www.yelp.com/biz/b-patisserie-san-fran...          3247   \n",
       "2  https://www.yelp.com/biz/jane-the-bakery-san-f...           587   \n",
       "3  https://www.yelp.com/biz/jina-bakes-san-franci...           307   \n",
       "4  https://www.yelp.com/biz/tartine-bakery-san-fr...          8700   \n",
       "\n",
       "                                          categories  rating  \\\n",
       "0       [{'alias': 'bakeries', 'title': 'Bakeries'}]     4.5   \n",
       "1  [{'alias': 'bakeries', 'title': 'Bakeries'}, {...     4.5   \n",
       "2  [{'alias': 'bakeries', 'title': 'Bakeries'}, {...     4.5   \n",
       "3       [{'alias': 'bakeries', 'title': 'Bakeries'}]     4.5   \n",
       "4  [{'alias': 'bakeries', 'title': 'Bakeries'}, {...     4.0   \n",
       "\n",
       "                                         coordinates        transactions  \\\n",
       "0  {'latitude': 37.783429, 'longitude': -122.459307}          [delivery]   \n",
       "1  {'latitude': 37.787873, 'longitude': -122.440882}          [delivery]   \n",
       "2     {'latitude': 37.7838, 'longitude': -122.43411}  [pickup, delivery]   \n",
       "3    {'latitude': 37.78522, 'longitude': -122.43157}                  []   \n",
       "4    {'latitude': 37.76131, 'longitude': -122.42431}          [delivery]   \n",
       "\n",
       "  price                                           location         phone  \\\n",
       "0    $$  {'address1': '397 Arguello Blvd', 'address2': ...  +14157509460   \n",
       "1    $$  {'address1': '2821 California St', 'address2':...  +14154401700   \n",
       "2     $  {'address1': '1881 Geary Blvd', 'address2': ''...  +14156587971   \n",
       "3   NaN  {'address1': '1581 Webster St', 'address2': 'S...                 \n",
       "4    $$  {'address1': '600 Guerrero St', 'address2': ''...  +14154872600   \n",
       "\n",
       "    display_phone     distance  \n",
       "0  (415) 750-9460  3211.384137  \n",
       "1  (415) 440-1700  3024.692513  \n",
       "2  (415) 658-7971  2548.361058  \n",
       "3                  2717.175933  \n",
       "4  (415) 487-2600  1087.638933  "
      ]
     },
     "metadata": {},
     "output_type": "display_data"
    },
    {
     "data": {
      "text/html": [
       "<div>\n",
       "<style scoped>\n",
       "    .dataframe tbody tr th:only-of-type {\n",
       "        vertical-align: middle;\n",
       "    }\n",
       "\n",
       "    .dataframe tbody tr th {\n",
       "        vertical-align: top;\n",
       "    }\n",
       "\n",
       "    .dataframe thead th {\n",
       "        text-align: right;\n",
       "    }\n",
       "</style>\n",
       "<table border=\"1\" class=\"dataframe\">\n",
       "  <thead>\n",
       "    <tr style=\"text-align: right;\">\n",
       "      <th></th>\n",
       "      <th>id</th>\n",
       "      <th>alias</th>\n",
       "      <th>name</th>\n",
       "      <th>image_url</th>\n",
       "      <th>is_closed</th>\n",
       "      <th>url</th>\n",
       "      <th>review_count</th>\n",
       "      <th>categories</th>\n",
       "      <th>rating</th>\n",
       "      <th>coordinates</th>\n",
       "      <th>transactions</th>\n",
       "      <th>price</th>\n",
       "      <th>location</th>\n",
       "      <th>phone</th>\n",
       "      <th>display_phone</th>\n",
       "      <th>distance</th>\n",
       "    </tr>\n",
       "  </thead>\n",
       "  <tbody>\n",
       "    <tr>\n",
       "      <th>995</th>\n",
       "      <td>o86gyUxsNYnPIF-kAlznKA</td>\n",
       "      <td>aura-tea-and-coffee-san-francisco-3</td>\n",
       "      <td>Aura Tea &amp; Coffee</td>\n",
       "      <td>https://s3-media3.fl.yelpcdn.com/bphoto/RdDscd...</td>\n",
       "      <td>False</td>\n",
       "      <td>https://www.yelp.com/biz/aura-tea-and-coffee-s...</td>\n",
       "      <td>112</td>\n",
       "      <td>[{'alias': 'coffee', 'title': 'Coffee &amp; Tea'},...</td>\n",
       "      <td>4.0</td>\n",
       "      <td>{'latitude': 37.79233593640378, 'longitude': -...</td>\n",
       "      <td>[pickup, delivery]</td>\n",
       "      <td>$</td>\n",
       "      <td>{'address1': '121 Spear St', 'address2': 'Ste ...</td>\n",
       "      <td>+14087171881</td>\n",
       "      <td>(408) 717-1881</td>\n",
       "      <td>5195.870657</td>\n",
       "    </tr>\n",
       "    <tr>\n",
       "      <th>996</th>\n",
       "      <td>18kCA436sevf4njM5YOxug</td>\n",
       "      <td>cibo-pop-up-bakery-sausalito</td>\n",
       "      <td>Cibo Pop Up Bakery</td>\n",
       "      <td></td>\n",
       "      <td>False</td>\n",
       "      <td>https://www.yelp.com/biz/cibo-pop-up-bakery-sa...</td>\n",
       "      <td>4</td>\n",
       "      <td>[{'alias': 'bakeries', 'title': 'Bakeries'}]</td>\n",
       "      <td>4.0</td>\n",
       "      <td>{'latitude': 37.87014, 'longitude': -122.50126}</td>\n",
       "      <td>[]</td>\n",
       "      <td>NaN</td>\n",
       "      <td>{'address1': '200 Gate 5 Rd', 'address2': '', ...</td>\n",
       "      <td></td>\n",
       "      <td></td>\n",
       "      <td>13414.843678</td>\n",
       "    </tr>\n",
       "    <tr>\n",
       "      <th>997</th>\n",
       "      <td>QLG2cYwd26JRWzCQQngcXA</td>\n",
       "      <td>the-italian-homemade-company-berkeley-3</td>\n",
       "      <td>The Italian Homemade Company</td>\n",
       "      <td>https://s3-media2.fl.yelpcdn.com/bphoto/Dw0vYU...</td>\n",
       "      <td>False</td>\n",
       "      <td>https://www.yelp.com/biz/the-italian-homemade-...</td>\n",
       "      <td>519</td>\n",
       "      <td>[{'alias': 'italian', 'title': 'Italian'}, {'a...</td>\n",
       "      <td>4.0</td>\n",
       "      <td>{'latitude': 37.85815, 'longitude': -122.25284}</td>\n",
       "      <td>[pickup, delivery]</td>\n",
       "      <td>$$</td>\n",
       "      <td>{'address1': '2905 College Ave', 'address2': '...</td>\n",
       "      <td>+15106491495</td>\n",
       "      <td>(510) 649-1495</td>\n",
       "      <td>19413.845476</td>\n",
       "    </tr>\n",
       "    <tr>\n",
       "      <th>998</th>\n",
       "      <td>GiSvj5G8TgOlKPtunkduKA</td>\n",
       "      <td>the-posh-bagel-san-francisco-4</td>\n",
       "      <td>The Posh Bagel</td>\n",
       "      <td>https://s3-media2.fl.yelpcdn.com/bphoto/-fTZ4e...</td>\n",
       "      <td>False</td>\n",
       "      <td>https://www.yelp.com/biz/the-posh-bagel-san-fr...</td>\n",
       "      <td>420</td>\n",
       "      <td>[{'alias': 'bakeries', 'title': 'Bakeries'}, {...</td>\n",
       "      <td>3.5</td>\n",
       "      <td>{'latitude': 37.7899148, 'longitude': -122.405...</td>\n",
       "      <td>[pickup, delivery]</td>\n",
       "      <td>$$</td>\n",
       "      <td>{'address1': '270 Sutter St', 'address2': '', ...</td>\n",
       "      <td>+14159510133</td>\n",
       "      <td>(415) 951-0133</td>\n",
       "      <td>4245.559936</td>\n",
       "    </tr>\n",
       "    <tr>\n",
       "      <th>999</th>\n",
       "      <td>KhV4RMq9X3LaKa_nRrFUVw</td>\n",
       "      <td>signal-coffee-roasters-alameda</td>\n",
       "      <td>SIGNAL Coffee Roasters</td>\n",
       "      <td>https://s3-media2.fl.yelpcdn.com/bphoto/ptfIqz...</td>\n",
       "      <td>False</td>\n",
       "      <td>https://www.yelp.com/biz/signal-coffee-roaster...</td>\n",
       "      <td>96</td>\n",
       "      <td>[{'alias': 'coffee', 'title': 'Coffee &amp; Tea'},...</td>\n",
       "      <td>4.5</td>\n",
       "      <td>{'latitude': 37.77462527998164, 'longitude': -...</td>\n",
       "      <td>[]</td>\n",
       "      <td>$$</td>\n",
       "      <td>{'address1': '1536 Webster St', 'address2': ''...</td>\n",
       "      <td>+15102178739</td>\n",
       "      <td>(510) 217-8739</td>\n",
       "      <td>14133.597201</td>\n",
       "    </tr>\n",
       "  </tbody>\n",
       "</table>\n",
       "</div>"
      ],
      "text/plain": [
       "                         id                                    alias  \\\n",
       "995  o86gyUxsNYnPIF-kAlznKA      aura-tea-and-coffee-san-francisco-3   \n",
       "996  18kCA436sevf4njM5YOxug             cibo-pop-up-bakery-sausalito   \n",
       "997  QLG2cYwd26JRWzCQQngcXA  the-italian-homemade-company-berkeley-3   \n",
       "998  GiSvj5G8TgOlKPtunkduKA           the-posh-bagel-san-francisco-4   \n",
       "999  KhV4RMq9X3LaKa_nRrFUVw           signal-coffee-roasters-alameda   \n",
       "\n",
       "                             name  \\\n",
       "995             Aura Tea & Coffee   \n",
       "996            Cibo Pop Up Bakery   \n",
       "997  The Italian Homemade Company   \n",
       "998                The Posh Bagel   \n",
       "999        SIGNAL Coffee Roasters   \n",
       "\n",
       "                                             image_url  is_closed  \\\n",
       "995  https://s3-media3.fl.yelpcdn.com/bphoto/RdDscd...      False   \n",
       "996                                                         False   \n",
       "997  https://s3-media2.fl.yelpcdn.com/bphoto/Dw0vYU...      False   \n",
       "998  https://s3-media2.fl.yelpcdn.com/bphoto/-fTZ4e...      False   \n",
       "999  https://s3-media2.fl.yelpcdn.com/bphoto/ptfIqz...      False   \n",
       "\n",
       "                                                   url  review_count  \\\n",
       "995  https://www.yelp.com/biz/aura-tea-and-coffee-s...           112   \n",
       "996  https://www.yelp.com/biz/cibo-pop-up-bakery-sa...             4   \n",
       "997  https://www.yelp.com/biz/the-italian-homemade-...           519   \n",
       "998  https://www.yelp.com/biz/the-posh-bagel-san-fr...           420   \n",
       "999  https://www.yelp.com/biz/signal-coffee-roaster...            96   \n",
       "\n",
       "                                            categories  rating  \\\n",
       "995  [{'alias': 'coffee', 'title': 'Coffee & Tea'},...     4.0   \n",
       "996       [{'alias': 'bakeries', 'title': 'Bakeries'}]     4.0   \n",
       "997  [{'alias': 'italian', 'title': 'Italian'}, {'a...     4.0   \n",
       "998  [{'alias': 'bakeries', 'title': 'Bakeries'}, {...     3.5   \n",
       "999  [{'alias': 'coffee', 'title': 'Coffee & Tea'},...     4.5   \n",
       "\n",
       "                                           coordinates        transactions  \\\n",
       "995  {'latitude': 37.79233593640378, 'longitude': -...  [pickup, delivery]   \n",
       "996    {'latitude': 37.87014, 'longitude': -122.50126}                  []   \n",
       "997    {'latitude': 37.85815, 'longitude': -122.25284}  [pickup, delivery]   \n",
       "998  {'latitude': 37.7899148, 'longitude': -122.405...  [pickup, delivery]   \n",
       "999  {'latitude': 37.77462527998164, 'longitude': -...                  []   \n",
       "\n",
       "    price                                           location         phone  \\\n",
       "995     $  {'address1': '121 Spear St', 'address2': 'Ste ...  +14087171881   \n",
       "996   NaN  {'address1': '200 Gate 5 Rd', 'address2': '', ...                 \n",
       "997    $$  {'address1': '2905 College Ave', 'address2': '...  +15106491495   \n",
       "998    $$  {'address1': '270 Sutter St', 'address2': '', ...  +14159510133   \n",
       "999    $$  {'address1': '1536 Webster St', 'address2': ''...  +15102178739   \n",
       "\n",
       "      display_phone      distance  \n",
       "995  (408) 717-1881   5195.870657  \n",
       "996                  13414.843678  \n",
       "997  (510) 649-1495  19413.845476  \n",
       "998  (415) 951-0133   4245.559936  \n",
       "999  (510) 217-8739  14133.597201  "
      ]
     },
     "metadata": {},
     "output_type": "display_data"
    }
   ],
   "source": [
    "# load final results\n",
    "final_df = pd.read_json(JSON_FILE)\n",
    "display(final_df.head(), final_df.tail())"
   ]
  },
  {
   "cell_type": "markdown",
   "id": "b58c0b67",
   "metadata": {},
   "source": [
    "## Check for duplicates"
   ]
  },
  {
   "cell_type": "code",
   "execution_count": 9,
   "id": "26c6b1de",
   "metadata": {},
   "outputs": [
    {
     "data": {
      "text/plain": [
       "8"
      ]
     },
     "execution_count": 9,
     "metadata": {},
     "output_type": "execute_result"
    }
   ],
   "source": [
    "# check for duplicate ID's \n",
    "final_df.duplicated(subset='id').sum()"
   ]
  },
  {
   "cell_type": "code",
   "execution_count": 10,
   "id": "589dcb23",
   "metadata": {},
   "outputs": [
    {
     "data": {
      "text/plain": [
       "0"
      ]
     },
     "execution_count": 10,
     "metadata": {},
     "output_type": "execute_result"
    }
   ],
   "source": [
    "## Drop duplicate ids and confirm there are no more duplicates\n",
    "final_df = final_df.drop_duplicates(subset='id')\n",
    "final_df.duplicated(subset='id').sum()"
   ]
  },
  {
   "cell_type": "markdown",
   "id": "b8b981dd",
   "metadata": {},
   "source": [
    "## Save the final DataFrame to a .csv (or a .csv.gz if its too big for the GitHub file size limit)."
   ]
  },
  {
   "cell_type": "code",
   "execution_count": 11,
   "id": "a3f66270",
   "metadata": {},
   "outputs": [],
   "source": [
    "# save the final results to a compressed csv\n",
    "final_df.to_csv('Data/final_results_SanFrancisco_bakery.csv.gz', compression='gzip',index=False)"
   ]
  },
  {
   "cell_type": "code",
   "execution_count": null,
   "id": "0dfe7e87",
   "metadata": {},
   "outputs": [],
   "source": []
  }
 ],
 "metadata": {
  "kernelspec": {
   "display_name": "Python (dojo-env)",
   "language": "python",
   "name": "dojo-env"
  },
  "language_info": {
   "codemirror_mode": {
    "name": "ipython",
    "version": 3
   },
   "file_extension": ".py",
   "mimetype": "text/x-python",
   "name": "python",
   "nbconvert_exporter": "python",
   "pygments_lexer": "ipython3",
   "version": "3.9.15"
  },
  "toc": {
   "base_numbering": 1,
   "nav_menu": {},
   "number_sections": false,
   "sideBar": true,
   "skip_h1_title": false,
   "title_cell": "Table of Contents",
   "title_sidebar": "Contents",
   "toc_cell": false,
   "toc_position": {},
   "toc_section_display": true,
   "toc_window_display": false
  }
 },
 "nbformat": 4,
 "nbformat_minor": 5
}
